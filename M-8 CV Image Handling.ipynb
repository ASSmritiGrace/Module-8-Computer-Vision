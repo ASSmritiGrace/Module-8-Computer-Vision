{
 "cells": [
  {
   "cell_type": "code",
   "execution_count": 1,
   "id": "e582d0a6-077b-4792-a491-bfb6ede1f2fb",
   "metadata": {},
   "outputs": [
    {
     "name": "stdout",
     "output_type": "stream",
     "text": [
      "Requirement already satisfied: opencv-python in c:\\users\\hp\\appdata\\local\\programs\\python\\python312\\lib\\site-packages (4.11.0.86)\n",
      "Requirement already satisfied: numpy>=1.21.2 in c:\\users\\hp\\appdata\\local\\programs\\python\\python312\\lib\\site-packages (from opencv-python) (2.2.6)\n",
      "Note: you may need to restart the kernel to use updated packages.\n"
     ]
    }
   ],
   "source": [
    "pip install opencv-python\n"
   ]
  },
  {
   "cell_type": "code",
   "execution_count": 1,
   "id": "90afe52f-d89f-462d-979b-0ab3aa609c14",
   "metadata": {},
   "outputs": [],
   "source": [
    "import cv2"
   ]
  },
  {
   "cell_type": "code",
   "execution_count": 2,
   "id": "1fa9303b-68ca-44f6-87da-d8df0fdb69c4",
   "metadata": {},
   "outputs": [],
   "source": [
    "xyz='image.jpg'"
   ]
  },
  {
   "cell_type": "code",
   "execution_count": 3,
   "id": "d0f4f4ad-194b-4960-8af9-7d32c17cfe2b",
   "metadata": {},
   "outputs": [],
   "source": [
    "image=cv2.imread(xyz)"
   ]
  },
  {
   "cell_type": "code",
   "execution_count": null,
   "id": "ba9d7e7d-d619-4212-a6f3-6000320e2e96",
   "metadata": {},
   "outputs": [
    {
     "name": "stdout",
     "output_type": "stream",
     "text": [
      "Image found\n"
     ]
    }
   ],
   "source": [
    "image=cv2.imread(xyz)\n",
    "if image is None:\n",
    "    print(\"Image not found.\")\n",
    "else:\n",
    "    print(\"Image found\")\n",
    "\n",
    "    cv2.imshow(\"Image:\",image)\n",
    "    cv2.waitKey(0)\n",
    "    cv2.destryAllWindows()"
   ]
  },
  {
   "cell_type": "code",
   "execution_count": 7,
   "id": "d54a9ffb-dd17-46a8-8d46-73e525938c5a",
   "metadata": {},
   "outputs": [
    {
     "name": "stdout",
     "output_type": "stream",
     "text": [
      "Image saved.\n"
     ]
    }
   ],
   "source": [
    "x=cv2.imwrite('abc.jpg',image)\n",
    "y=cv2.imwrite('xyz.png',image)\n",
    "z=cv2.imwrite('que.jpg',image)\n",
    "\n",
    "\n",
    "if x and y and z:\n",
    "    print(\"Image saved.\")\n",
    "else:\n",
    "    print(\"Error saving image\")"
   ]
  },
  {
   "cell_type": "code",
   "execution_count": null,
   "id": "58e0a856-608e-4904-a606-e59328129c76",
   "metadata": {},
   "outputs": [],
   "source": []
  }
 ],
 "metadata": {
  "kernelspec": {
   "display_name": "Python 3 (ipykernel)",
   "language": "python",
   "name": "python3"
  },
  "language_info": {
   "codemirror_mode": {
    "name": "ipython",
    "version": 3
   },
   "file_extension": ".py",
   "mimetype": "text/x-python",
   "name": "python",
   "nbconvert_exporter": "python",
   "pygments_lexer": "ipython3",
   "version": "3.12.10"
  }
 },
 "nbformat": 4,
 "nbformat_minor": 5
}
